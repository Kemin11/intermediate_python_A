{
 "cells": [
  {
   "cell_type": "code",
   "execution_count": 1,
   "metadata": {},
   "outputs": [],
   "source": [
    "#Import library numpy\n",
    "\n",
    "import numpy as np"
   ]
  },
  {
   "cell_type": "code",
   "execution_count": 2,
   "metadata": {},
   "outputs": [
    {
     "data": {
      "text/plain": [
       "list"
      ]
     },
     "execution_count": 2,
     "metadata": {},
     "output_type": "execute_result"
    }
   ],
   "source": [
    "data = [[1,2,3],[4,5,6],[7,8,9],[10,11,12]]\n",
    "type(data)"
   ]
  },
  {
   "cell_type": "code",
   "execution_count": 3,
   "metadata": {
    "scrolled": false
   },
   "outputs": [
    {
     "name": "stdout",
     "output_type": "stream",
     "text": [
      "[[ 1  2  3]\n",
      " [ 4  5  6]\n",
      " [ 7  8  9]\n",
      " [10 11 12]]\n",
      "\n",
      "[4 5 6]\n"
     ]
    },
    {
     "data": {
      "text/plain": [
       "numpy.ndarray"
      ]
     },
     "execution_count": 3,
     "metadata": {},
     "output_type": "execute_result"
    }
   ],
   "source": [
    "#Membuat Array\n",
    "arr = np.array(data) \n",
    "arr1 = np.array([4,5,6])\n",
    "print(arr)\n",
    "print()\n",
    "print(arr1)\n",
    "\n",
    "type(arr) #tipe data"
   ]
  },
  {
   "cell_type": "code",
   "execution_count": 4,
   "metadata": {},
   "outputs": [
    {
     "name": "stdout",
     "output_type": "stream",
     "text": [
      "(4, 3)\n",
      "(3,)\n",
      "12\n",
      "int32\n"
     ]
    }
   ],
   "source": [
    "#bentuk array\n",
    "print(arr.shape) #4 baris, 3 kolom (2 dimensi)\n",
    "print(arr1.shape) #3 kolom (1 dimensi)\n",
    "\n",
    "#jumlah data dalam array\n",
    "print(arr.size)\n",
    "\n",
    "#tipe data\n",
    "print(arr.dtype)"
   ]
  },
  {
   "cell_type": "code",
   "execution_count": 5,
   "metadata": {},
   "outputs": [
    {
     "name": "stdout",
     "output_type": "stream",
     "text": [
      "[[1 2 3]\n",
      " [4 5 6]]\n",
      "int32\n",
      "\n",
      "[[1. 2. 3.]\n",
      " [4. 5. 6.]]\n",
      "float64\n"
     ]
    }
   ],
   "source": [
    "#Mengubah tipe data\n",
    "x = np.array([[1,2,3],[4,5,6]])\n",
    "y = np.array([[1,2,3],[4,5,6]], dtype=float)\n",
    "print(x)\n",
    "print(x.dtype)\n",
    "print()\n",
    "print(y)\n",
    "print(y.dtype)"
   ]
  },
  {
   "cell_type": "code",
   "execution_count": 6,
   "metadata": {},
   "outputs": [
    {
     "name": "stdout",
     "output_type": "stream",
     "text": [
      "[1. 1. 1. 1. 1.]\n",
      "\n",
      "[[1.]\n",
      " [1.]\n",
      " [1.]\n",
      " [1.]\n",
      " [1.]\n",
      " [1.]\n",
      " [1.]\n",
      " [1.]\n",
      " [1.]\n",
      " [1.]]\n",
      "\n",
      "[[[1. 1. 1.]\n",
      "  [1. 1. 1.]\n",
      "  [1. 1. 1.]]\n",
      "\n",
      " [[1. 1. 1.]\n",
      "  [1. 1. 1.]\n",
      "  [1. 1. 1.]]]\n"
     ]
    }
   ],
   "source": [
    "#membuat matriks satu\n",
    "arr = np.ones(5) #1 baris, 5 kolom\n",
    "arr1 = np.ones((10,1)) #10 baris, 1 kolom\n",
    "arr2 = np.ones((2,3,3)) #2 array, 3 kolom, 3 baris\n",
    "\n",
    "print(arr)\n",
    "print()\n",
    "print(arr1)\n",
    "print()\n",
    "print(arr2)"
   ]
  },
  {
   "cell_type": "code",
   "execution_count": 7,
   "metadata": {},
   "outputs": [
    {
     "name": "stdout",
     "output_type": "stream",
     "text": [
      "[0. 0. 0. 0. 0. 0. 0. 0. 0. 0.]\n",
      "\n",
      "[[0. 0. 0.]\n",
      " [0. 0. 0.]\n",
      " [0. 0. 0.]\n",
      " [0. 0. 0.]\n",
      " [0. 0. 0.]]\n",
      "\n",
      "[[[0. 0. 0.]\n",
      "  [0. 0. 0.]]\n",
      "\n",
      " [[0. 0. 0.]\n",
      "  [0. 0. 0.]]\n",
      "\n",
      " [[0. 0. 0.]\n",
      "  [0. 0. 0.]]]\n"
     ]
    }
   ],
   "source": [
    "#membuat matriks zero\n",
    "zero1 = np.zeros(10) #1 dimensi\n",
    "zero2 = np.zeros((5,3)) #2 dimensi\n",
    "zero3 = np.zeros((3,2,3)) #3 dimensi\n",
    "\n",
    "print(zero1)\n",
    "print()\n",
    "print(zero2)\n",
    "print()\n",
    "print(zero3)"
   ]
  },
  {
   "cell_type": "code",
   "execution_count": 8,
   "metadata": {},
   "outputs": [
    {
     "name": "stdout",
     "output_type": "stream",
     "text": [
      "[[2. 2. 2.]\n",
      " [2. 2. 2.]\n",
      " [2. 2. 2.]\n",
      " [2. 2. 2.]\n",
      " [2. 2. 2.]]\n"
     ]
    }
   ],
   "source": [
    "#mengubah isi matriks zero\n",
    "arr4 = np.zeros((5,3))\n",
    "for y in arr4:\n",
    "    y+=2\n",
    "print(arr4)"
   ]
  },
  {
   "cell_type": "code",
   "execution_count": 10,
   "metadata": {},
   "outputs": [
    {
     "data": {
      "text/plain": [
       "array([ 0,  1,  2,  3,  4,  5,  6,  7,  8,  9, 10, 11, 12, 13, 14])"
      ]
     },
     "execution_count": 10,
     "metadata": {},
     "output_type": "execute_result"
    }
   ],
   "source": [
    "#membuat arange\n",
    "z = np.arange(15)\n",
    "z"
   ]
  },
  {
   "cell_type": "code",
   "execution_count": 11,
   "metadata": {},
   "outputs": [
    {
     "data": {
      "text/plain": [
       "array([4, 5, 6, 7, 8, 9])"
      ]
     },
     "execution_count": 11,
     "metadata": {},
     "output_type": "execute_result"
    }
   ],
   "source": [
    "#arange dengan batasan\n",
    "x = np.arange(4,10) #mulai, akhir\n",
    "x"
   ]
  },
  {
   "cell_type": "code",
   "execution_count": 12,
   "metadata": {},
   "outputs": [
    {
     "data": {
      "text/plain": [
       "array([1, 3, 5, 7, 9])"
      ]
     },
     "execution_count": 12,
     "metadata": {},
     "output_type": "execute_result"
    }
   ],
   "source": [
    "#arange dengan batasan dan step\n",
    "y = np.arange(1,11,2) #mulai, akhir, step\n",
    "y"
   ]
  },
  {
   "cell_type": "code",
   "execution_count": 15,
   "metadata": {},
   "outputs": [
    {
     "data": {
      "text/plain": [
       "array([0.        , 0.55555556, 1.11111111, 1.66666667, 2.22222222,\n",
       "       2.77777778, 3.33333333, 3.88888889, 4.44444444, 5.        ])"
      ]
     },
     "execution_count": 15,
     "metadata": {},
     "output_type": "execute_result"
    }
   ],
   "source": [
    "#linspace\n",
    "a = np.linspace(0,5,10) #nilai awal, nilai akhir, banyak data\n",
    "a"
   ]
  },
  {
   "cell_type": "code",
   "execution_count": 16,
   "metadata": {},
   "outputs": [
    {
     "data": {
      "text/plain": [
       "array([[0.63249575, 0.22191901, 0.06988799, 0.95397239, 0.7680308 ],\n",
       "       [0.67684022, 0.61388406, 0.8543685 , 0.42170531, 0.36852467],\n",
       "       [0.90300129, 0.65491347, 0.26403863, 0.60177382, 0.50446015],\n",
       "       [0.88499453, 0.61903886, 0.92839427, 0.95494301, 0.28125514],\n",
       "       [0.25950742, 0.17248285, 0.57393072, 0.3992401 , 0.83717626]])"
      ]
     },
     "execution_count": 16,
     "metadata": {},
     "output_type": "execute_result"
    }
   ],
   "source": [
    "#random\n",
    "from numpy import random\n",
    "\n",
    "#random uniform\n",
    "random.rand(5,5) #kolom, baris"
   ]
  },
  {
   "cell_type": "code",
   "execution_count": 17,
   "metadata": {},
   "outputs": [
    {
     "data": {
      "text/plain": [
       "array([[-1.51028298,  0.76211834, -1.32938992,  0.14360188, -0.70275136],\n",
       "       [ 1.42844548, -0.58775066,  0.04439588,  1.33151804,  0.28927948],\n",
       "       [ 1.19411131, -0.82315418, -0.1701636 , -2.2915993 , -0.23075645],\n",
       "       [-1.17909219,  1.36938454,  0.108513  , -1.05073026, -1.48641854],\n",
       "       [-1.64659976,  2.10217329, -0.77174171, -0.88754037, -0.91579769]])"
      ]
     },
     "execution_count": 17,
     "metadata": {},
     "output_type": "execute_result"
    }
   ],
   "source": [
    "#random nya ada nilai minusnya (normal random)\n",
    "x = random.randn(5,5)\n",
    "x"
   ]
  },
  {
   "cell_type": "code",
   "execution_count": 18,
   "metadata": {},
   "outputs": [
    {
     "data": {
      "text/plain": [
       "5"
      ]
     },
     "execution_count": 18,
     "metadata": {},
     "output_type": "execute_result"
    }
   ],
   "source": [
    "random.randint(9) #9 adalah batasan"
   ]
  },
  {
   "cell_type": "code",
   "execution_count": 19,
   "metadata": {},
   "outputs": [
    {
     "data": {
      "text/plain": [
       "array([4, 7, 7, 2])"
      ]
     },
     "execution_count": 19,
     "metadata": {},
     "output_type": "execute_result"
    }
   ],
   "source": [
    "random.randint(2,10, size=4) #start, stop, ukuran"
   ]
  },
  {
   "cell_type": "code",
   "execution_count": 23,
   "metadata": {},
   "outputs": [
    {
     "data": {
      "text/plain": [
       "array([[[9, 2],\n",
       "        [6, 5]],\n",
       "\n",
       "       [[8, 9],\n",
       "        [6, 2]],\n",
       "\n",
       "       [[4, 2],\n",
       "        [5, 7]],\n",
       "\n",
       "       [[3, 8],\n",
       "        [9, 9]]])"
      ]
     },
     "execution_count": 23,
     "metadata": {},
     "output_type": "execute_result"
    }
   ],
   "source": [
    "random.randint(2,10, size=(4,2,2)) #start, stop, ukuran(array, baris, kolom)"
   ]
  },
  {
   "cell_type": "code",
   "execution_count": 21,
   "metadata": {},
   "outputs": [
    {
     "data": {
      "text/plain": [
       "array([53, 85, 68, 68, 81])"
      ]
     },
     "execution_count": 21,
     "metadata": {},
     "output_type": "execute_result"
    }
   ],
   "source": [
    "random.randint(0,100,5) #start, stop, ukuran"
   ]
  },
  {
   "cell_type": "code",
   "execution_count": 25,
   "metadata": {},
   "outputs": [
    {
     "data": {
      "text/plain": [
       "array([[91, 98,  3, 46, 11],\n",
       "       [64, 83, 12,  2, 65],\n",
       "       [68, 74, 86, 72, 60]])"
      ]
     },
     "execution_count": 25,
     "metadata": {},
     "output_type": "execute_result"
    }
   ],
   "source": [
    "random.randint(0,100,(3,5)) #start, stop, ukuran (baris, kolom)"
   ]
  },
  {
   "cell_type": "code",
   "execution_count": 26,
   "metadata": {},
   "outputs": [
    {
     "data": {
      "text/plain": [
       "array([1.5       , 1.63793103, 1.77586207, 1.9137931 , 2.05172414,\n",
       "       2.18965517, 2.32758621, 2.46551724, 2.60344828, 2.74137931,\n",
       "       2.87931034, 3.01724138, 3.15517241, 3.29310345, 3.43103448,\n",
       "       3.56896552, 3.70689655, 3.84482759, 3.98275862, 4.12068966,\n",
       "       4.25862069, 4.39655172, 4.53448276, 4.67241379, 4.81034483,\n",
       "       4.94827586, 5.0862069 , 5.22413793, 5.36206897, 5.5       ])"
      ]
     },
     "execution_count": 26,
     "metadata": {},
     "output_type": "execute_result"
    }
   ],
   "source": [
    "x = np.linspace(1.5,5.5,30)\n",
    "x"
   ]
  }
 ],
 "metadata": {
  "kernelspec": {
   "display_name": "Python 3",
   "language": "python",
   "name": "python3"
  },
  "language_info": {
   "codemirror_mode": {
    "name": "ipython",
    "version": 3
   },
   "file_extension": ".py",
   "mimetype": "text/x-python",
   "name": "python",
   "nbconvert_exporter": "python",
   "pygments_lexer": "ipython3",
   "version": "3.8.5"
  }
 },
 "nbformat": 4,
 "nbformat_minor": 4
}
